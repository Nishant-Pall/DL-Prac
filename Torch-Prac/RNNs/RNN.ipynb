{
 "cells": [
  {
   "cell_type": "code",
   "execution_count": 12,
   "metadata": {},
   "outputs": [],
   "source": [
    "import torch\n",
    "import torchvision\n",
    "import torch.nn as nn\n",
    "import torch.optim as optim\n",
    "import torch.nn.functional as F\n",
    "from torch.utils.data import DataLoader\n",
    "import torchvision.datasets as datasets\n",
    "import torchvision.transforms as transforms"
   ]
  },
  {
   "cell_type": "code",
   "execution_count": 13,
   "metadata": {},
   "outputs": [],
   "source": [
    "# Hyperparams\n",
    "input_size = 28\n",
    "sequence_length = 28\n",
    "num_classes = 10\n",
    "num_layers = 2\n",
    "hidden_size = 256\n",
    "learning_rate = 0.001\n",
    "batch_size = 64\n",
    "num_epochs = 2"
   ]
  },
  {
   "cell_type": "code",
   "execution_count": 66,
   "metadata": {},
   "outputs": [],
   "source": [
    "class RNN(nn.Module):\n",
    "\tdef __init__(self, input_size, num_classes, hidden_size, num_layers):\n",
    "\t\tsuper(RNN, self).__init__()\n",
    "\t\tself.hidden_size = hidden_size\n",
    "\t\tself.num_layers = num_layers\n",
    "\n",
    "\t\t# self.rnn = nn.RNN(input_size, hidden_size, num_layers, batch_first = True)\n",
    "\t\t# self.gru = nn.GRU(input_size, hidden_size, num_layers, batch_first = True)\n",
    "\t\tself.lstm = nn.LSTM(input_size, hidden_size, num_layers, batch_first = True)\n",
    "\t\t# N x time_seq x features\n",
    "\t\tself.fc = nn.Linear(hidden_size*sequence_length, num_classes)\n",
    "\n",
    "\tdef forward(self, x):\n",
    "\t\th0 = torch.zeros(self.num_layers, x.size(0), hidden_size)\n",
    "\t\tc0 = torch.zeros(self.num_layers, x.size(0), hidden_size)\n",
    "\n",
    "\t\t# Forward prop\n",
    "\t\tout, _ = self.lstm(x, (h0, c0))\n",
    "\t\tout = out.reshape(out.shape[0], -1)\n",
    "\t\tout = self.fc(out)\n",
    "\t\treturn out"
   ]
  },
  {
   "cell_type": "code",
   "execution_count": 67,
   "metadata": {},
   "outputs": [],
   "source": [
    "train_dataset = datasets.MNIST(\n",
    "\troot='data',\n",
    "\ttrain=True,\n",
    "\tdownload=True,\n",
    "\ttransform=transforms.ToTensor(),\n",
    "\ttarget_transform=transforms.Lambda(lambda y: torch.zeros(num_classes, dtype=torch.float).scatter_(dim=0, index=torch.tensor(y), value=1))\n",
    ")\n",
    "\n",
    "test_dataset = datasets.MNIST(\n",
    "\troot='data',\n",
    "\ttrain=False,\n",
    "\tdownload=True,\n",
    "\ttransform=transforms.ToTensor(),\n",
    "\ttarget_transform=transforms.Lambda(lambda y: torch.zeros(num_classes, dtype=torch.float).scatter_(dim=0, index=torch.tensor(y), value=1))\n",
    ")"
   ]
  },
  {
   "cell_type": "code",
   "execution_count": 68,
   "metadata": {},
   "outputs": [
    {
     "name": "stdout",
     "output_type": "stream",
     "text": [
      "RNN(\n",
      "  (lstm): LSTM(28, 256, num_layers=2, batch_first=True)\n",
      "  (fc): Linear(in_features=7168, out_features=10, bias=True)\n",
      ")\n"
     ]
    }
   ],
   "source": [
    "model = RNN(input_size=input_size, hidden_size=hidden_size, num_layers=num_layers, num_classes=num_classes)\n",
    "print(model)"
   ]
  },
  {
   "cell_type": "code",
   "execution_count": 69,
   "metadata": {},
   "outputs": [],
   "source": [
    "train_dataloader = DataLoader(train_dataset, batch_size=batch_size)\n",
    "test_dataloader = DataLoader(test_dataset, batch_size=batch_size)"
   ]
  },
  {
   "cell_type": "code",
   "execution_count": 70,
   "metadata": {},
   "outputs": [],
   "source": [
    "loss_fn = nn.CrossEntropyLoss()\n",
    "optimizer = torch.optim.Adam(model.parameters(), lr=1e-3)"
   ]
  },
  {
   "cell_type": "code",
   "execution_count": 71,
   "metadata": {},
   "outputs": [],
   "source": [
    "def train(dataloader, model, loss, optimizer):\n",
    "\tsize = len(dataloader.dataset)\n",
    "\tmodel.train()\n",
    "\n",
    "\tfor batch, (X, y) in enumerate(dataloader):\n",
    "\t\tX = X.squeeze(1)\n",
    "\t\tpred = model(X)\n",
    "\t\tloss = loss_fn(pred, y)\n",
    "\n",
    "\t\toptimizer.zero_grad()\n",
    "\t\tloss.backward()\n",
    "\t\toptimizer.step()\n",
    "\n",
    "\t\tif batch % 100 == 0:\n",
    "\t\t\tloss, current = loss.item(), batch * len(X)\n",
    "\t\t\tprint(f\"Loss: {loss}, [{current} / {size}]\")"
   ]
  },
  {
   "cell_type": "code",
   "execution_count": 72,
   "metadata": {},
   "outputs": [],
   "source": [
    "def test(dataloader, model, loss_fn):\n",
    "    size = len(dataloader.dataset)\n",
    "    num_batches = len(dataloader)\n",
    "    model.eval()\n",
    "    test_loss, correct = 0, 0\n",
    "    with torch.no_grad():\n",
    "        for X, y in dataloader:\n",
    "            X = X.squeeze(1)\n",
    "            pred = model(X)\n",
    "            test_loss += loss_fn(pred, y).item()\n",
    "            correct += (pred.argmax(1) == y.argmax(1)).type(torch.float).sum().item()\n",
    "    test_loss /= num_batches\n",
    "    correct /= size\n",
    "    print(f\"Test Error: \\n Accuracy: {(100*correct):>0.1f}%, Avg loss: {test_loss:>8f} \\n\")"
   ]
  },
  {
   "cell_type": "code",
   "execution_count": 73,
   "metadata": {},
   "outputs": [
    {
     "name": "stdout",
     "output_type": "stream",
     "text": [
      "Loss: 2.300607442855835, [0 / 60000]\n",
      "Loss: 0.3475913405418396, [6400 / 60000]\n",
      "Loss: 0.37505102157592773, [12800 / 60000]\n",
      "Loss: 0.2531822919845581, [19200 / 60000]\n",
      "Loss: 0.07182702422142029, [25600 / 60000]\n",
      "Loss: 0.23771074414253235, [32000 / 60000]\n",
      "Loss: 0.09833714365959167, [38400 / 60000]\n",
      "Loss: 0.2677958607673645, [44800 / 60000]\n",
      "Loss: 0.29919883608818054, [51200 / 60000]\n",
      "Loss: 0.0704730972647667, [57600 / 60000]\n"
     ]
    }
   ],
   "source": [
    "train(train_dataloader, model, loss_fn, optimizer)"
   ]
  },
  {
   "cell_type": "code",
   "execution_count": 74,
   "metadata": {},
   "outputs": [
    {
     "name": "stdout",
     "output_type": "stream",
     "text": [
      "Test Error: \n",
      " Accuracy: 97.0%, Avg loss: 0.096175 \n",
      "\n"
     ]
    }
   ],
   "source": [
    "\n",
    "test(test_dataloader, model, loss_fn)"
   ]
  },
  {
   "cell_type": "code",
   "execution_count": null,
   "metadata": {},
   "outputs": [],
   "source": []
  }
 ],
 "metadata": {
  "kernelspec": {
   "display_name": "Python 3.10.4 64-bit",
   "language": "python",
   "name": "python3"
  },
  "language_info": {
   "codemirror_mode": {
    "name": "ipython",
    "version": 3
   },
   "file_extension": ".py",
   "mimetype": "text/x-python",
   "name": "python",
   "nbconvert_exporter": "python",
   "pygments_lexer": "ipython3",
   "version": "3.10.4"
  },
  "orig_nbformat": 4,
  "vscode": {
   "interpreter": {
    "hash": "916dbcbb3f70747c44a77c7bcd40155683ae19c65e1c03b4aa3499c5328201f1"
   }
  }
 },
 "nbformat": 4,
 "nbformat_minor": 2
}
