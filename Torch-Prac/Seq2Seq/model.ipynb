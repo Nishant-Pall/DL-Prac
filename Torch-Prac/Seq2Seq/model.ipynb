{
 "cells": [
  {
   "cell_type": "code",
   "execution_count": 30,
   "metadata": {},
   "outputs": [],
   "source": [
    "import torch\n",
    "import torch.nn as nn\n",
    "import torch.optim as optim\n",
    "import torchtext\n",
    "from utils import translate_sentence, bleu, save_checkpoint, load_checkpoint\n",
    "from torchtext.datasets import Multi30k\n",
    "from torchtext.data import Field, BucketIterator\n",
    "import numpy as np\n",
    "import spacy\n",
    "import random\n",
    "from torch.utils.tensorboard import SummaryWriter\n"
   ]
  },
  {
   "cell_type": "code",
   "execution_count": 31,
   "metadata": {},
   "outputs": [],
   "source": [
    "spacy_ger = spacy.load('de_core_news_sm')\n",
    "spacy_eng = spacy.load('en_core_web_sm')"
   ]
  },
  {
   "cell_type": "code",
   "execution_count": 32,
   "metadata": {},
   "outputs": [],
   "source": [
    "def tokenizer_ger(text):\n",
    "    return [tok.text for tok in spacy_ger.tokenizer(text)]"
   ]
  },
  {
   "cell_type": "code",
   "execution_count": 33,
   "metadata": {},
   "outputs": [],
   "source": [
    "def tokenizer_eng(text):\n",
    "    return [tok.text for tok in spacy_eng.tokenizer(text)]"
   ]
  },
  {
   "cell_type": "code",
   "execution_count": 34,
   "metadata": {},
   "outputs": [],
   "source": [
    "# FIELD FOR DEFINING PREPROCESSING\n",
    "\n",
    "german = Field(tokenize=tokenizer_ger, lower=True, init_token='<sos>', eos_token='<eos>')\n",
    "\n",
    "\n",
    "english = Field(tokenize=tokenizer_eng, lower=True, init_token='<sos>', eos_token='<eos>')"
   ]
  },
  {
   "cell_type": "code",
   "execution_count": 35,
   "metadata": {},
   "outputs": [],
   "source": [
    "train_data, validation_data, test_data = Multi30k.splits(fields=(english, german),exts=('.en', '.de'))"
   ]
  },
  {
   "cell_type": "code",
   "execution_count": 36,
   "metadata": {},
   "outputs": [],
   "source": [
    "german.build_vocab(train_data, max_size=10000, min_freq=1)\n",
    "english.build_vocab(train_data, max_size=10000, min_freq=1)\n"
   ]
  },
  {
   "cell_type": "code",
   "execution_count": 37,
   "metadata": {},
   "outputs": [],
   "source": [
    "class Encoder(nn.Module):\n",
    "    def __init__(self, input_size, embedding_size, hidden_size, num_layers, p):\n",
    "        super(Encoder, self).__init__()\n",
    "        self.hidden_size = hidden_size\n",
    "        self.num_layers = num_layers\n",
    "        self.dropout = nn.Dropout(p)\n",
    "        self.embedding = nn.Embedding(input_size, embedding_size)\n",
    "        self.rnn = nn.LSTM(embedding_size, hidden_size, num_layers, dropout=p)\n",
    "        \n",
    "\n",
    "    def forward(self, x):\n",
    "        # x shape :(seq_length, batch_size)\n",
    "\n",
    "        embedding = self.dropout(self.embedding(x))\n",
    "        # shape: (seq_length, batch_size, embedding_size)\n",
    "\n",
    "        outputs, (hidden, cell) = self.rnn(embedding)\n",
    "\n",
    "\n",
    "        return hidden, cell\n",
    "\n",
    "    "
   ]
  },
  {
   "cell_type": "code",
   "execution_count": 38,
   "metadata": {},
   "outputs": [],
   "source": [
    "class Decoder(nn.Module):\n",
    "    \n",
    "    def __init__(self, input_size, embedding_size, hidden_size, output_size, num_layers, p):\n",
    "        super(Decoder, self).__init__()\n",
    "        self.hidden_size = hidden_size\n",
    "        self.num_layers = num_layers\n",
    "\n",
    "        self.dropout = nn.Dropout(p)\n",
    "        self.embedding = nn.Embedding(input_size, embedding_size)\n",
    "        self.rnn = nn.LSTM(embedding_size, hidden_size, num_layers, dropout=p)\n",
    "        self.fc = nn.Linear(hidden_size, output_size)\n",
    "\n",
    "    def forward(self, x, hidden, cell):\n",
    "        # shape of x : (batch_size) but we want (1, batch_size)\n",
    "        x = x.unsqueeze(0)\n",
    "\n",
    "        embedding = self.dropout(self.embedding(x))\n",
    "        # shape; (1, batch_size, embedding_size)\n",
    "\n",
    "        outputs, (hidden,cell) = self.rnn(embedding, (hidden, cell))\n",
    "        # outputs: (1, batch_size, hidden_size)\n",
    "\n",
    "        predictions = self.fc(outputs)\n",
    "        # predictions: (1, batch_size, length_of_vocab)\n",
    "\n",
    "        predictions = predictions.squeeze(0)\n",
    "\n",
    "        return predictions, hidden, cell"
   ]
  },
  {
   "cell_type": "code",
   "execution_count": 39,
   "metadata": {},
   "outputs": [],
   "source": [
    "class Seq2Seq(nn.Module):\n",
    "    def __init__(self, encoder, decoder):\n",
    "        super(Seq2Seq, self).__init__()\n",
    "        self.encoder = encoder\n",
    "        self.decoder = decoder\n",
    "\n",
    "    def forward(self, source, target, teacher_force_ratio=0.5):\n",
    "        batch_size = source.shape[1]\n",
    "        # source: (target_len, batch_size)\n",
    "        target_len = target.shape[0]\n",
    "        target_vocab_size = len(german.vocab)\n",
    "\n",
    "        outputs = torch.zeros(target_len, batch_size, target_vocab_size)\n",
    "        hidden, cell = self.encoder(source)\n",
    "\n",
    "        # grab start token\n",
    "        x = target[0]\n",
    "\n",
    "        for t in range(1, target_len):\n",
    "            output, hidden, cell = self.decoder(x, hidden, cell)\n",
    "\n",
    "            outputs[t] = output\n",
    "\n",
    "            # output : (batch_size, german_vocab_size)\n",
    "            best_guess = output.argmax(1)\n",
    "\n",
    "            x = target[t] if random.random() < teacher_force_ratio else best_guess\n",
    "\n",
    "        return outputs\n"
   ]
  },
  {
   "cell_type": "code",
   "execution_count": 40,
   "metadata": {},
   "outputs": [],
   "source": [
    "# TRAINING\n",
    "\n",
    "num_epochs = 20\n",
    "learning_rate = 0.001\n",
    "batch_size = 64\n",
    "\n",
    "load_model = False\n",
    "input_size_encoder = len(english.vocab)\n",
    "input_size_decoder = len(german.vocab)\n",
    "output_size = len(german.vocab)\n",
    "encoder_embedding_size = 300\n",
    "decoder_embedding_size = 300\n",
    "hidden_size = 128\n",
    "num_layers = 2\n",
    "enc_dropout = 0.5\n",
    "dec_dropout = 0.5\n",
    "\n",
    "# tensorboard\n",
    "writer = SummaryWriter(f'runs/loss_plot')\n",
    "step = 0\n",
    "\n",
    "train_iterator, validation_iterator, test_iterator = BucketIterator.splits((train_data, validation_data, test_data),\n",
    "batch_size=batch_size, sort_within_batch = True, sort_key = lambda x: len(x.src))"
   ]
  },
  {
   "cell_type": "code",
   "execution_count": 41,
   "metadata": {},
   "outputs": [],
   "source": [
    "encoder_net = Encoder(input_size_encoder, encoder_embedding_size,  hidden_size, num_layers, enc_dropout)\n",
    "\n"
   ]
  },
  {
   "cell_type": "code",
   "execution_count": 42,
   "metadata": {},
   "outputs": [],
   "source": [
    "decoder_net = Decoder(input_size_decoder, decoder_embedding_size, hidden_size,output_size,  num_layers, dec_dropout)\n"
   ]
  },
  {
   "cell_type": "code",
   "execution_count": 43,
   "metadata": {},
   "outputs": [],
   "source": [
    "model = Seq2Seq(encoder_net, decoder_net)\n",
    "optimizer = optim.Adam(model.parameters(), lr=learning_rate)"
   ]
  },
  {
   "cell_type": "code",
   "execution_count": 44,
   "metadata": {},
   "outputs": [],
   "source": [
    "pad_idx = german.vocab.stoi['<pad>']\n",
    "criterion = nn.CrossEntropyLoss(ignore_index=pad_idx)\n",
    "\n",
    "if load_model:\n",
    "    load_checkpoint(torch.load('my_checkpoint.pth.ptar'), model, optimizer)"
   ]
  },
  {
   "cell_type": "code",
   "execution_count": 45,
   "metadata": {},
   "outputs": [
    {
     "name": "stdout",
     "output_type": "stream",
     "text": [
      "[Epoch 0 / 20]\n",
      "=> Saving checkpoint\n",
      "OUTPUT SHAPE: torch.Size([1664, 10004])\n",
      "TARGET SHAPE: torch.Size([1664])\n",
      "OUTPUT SHAPE: torch.Size([1216, 10004])\n",
      "TARGET SHAPE: torch.Size([1216])\n",
      "OUTPUT SHAPE: torch.Size([1088, 10004])\n",
      "TARGET SHAPE: torch.Size([1088])\n",
      "OUTPUT SHAPE: torch.Size([1280, 10004])\n",
      "TARGET SHAPE: torch.Size([1280])\n",
      "OUTPUT SHAPE: torch.Size([1728, 10004])\n",
      "TARGET SHAPE: torch.Size([1728])\n",
      "OUTPUT SHAPE: torch.Size([1856, 10004])\n",
      "TARGET SHAPE: torch.Size([1856])\n",
      "OUTPUT SHAPE: torch.Size([1152, 10004])\n",
      "TARGET SHAPE: torch.Size([1152])\n",
      "OUTPUT SHAPE: torch.Size([896, 10004])\n",
      "TARGET SHAPE: torch.Size([896])\n",
      "OUTPUT SHAPE: torch.Size([1216, 10004])\n",
      "TARGET SHAPE: torch.Size([1216])\n",
      "OUTPUT SHAPE: torch.Size([1152, 10004])\n",
      "TARGET SHAPE: torch.Size([1152])\n",
      "OUTPUT SHAPE: torch.Size([1600, 10004])\n",
      "TARGET SHAPE: torch.Size([1600])\n",
      "OUTPUT SHAPE: torch.Size([1408, 10004])\n",
      "TARGET SHAPE: torch.Size([1408])\n",
      "OUTPUT SHAPE: torch.Size([1152, 10004])\n",
      "TARGET SHAPE: torch.Size([1152])\n",
      "OUTPUT SHAPE: torch.Size([1472, 10004])\n",
      "TARGET SHAPE: torch.Size([1472])\n",
      "OUTPUT SHAPE: torch.Size([1664, 10004])\n",
      "TARGET SHAPE: torch.Size([1664])\n",
      "OUTPUT SHAPE: torch.Size([1408, 10004])\n",
      "TARGET SHAPE: torch.Size([1408])\n",
      "OUTPUT SHAPE: torch.Size([1024, 10004])\n",
      "TARGET SHAPE: torch.Size([1024])\n",
      "OUTPUT SHAPE: torch.Size([832, 10004])\n",
      "TARGET SHAPE: torch.Size([832])\n",
      "OUTPUT SHAPE: torch.Size([1664, 10004])\n",
      "TARGET SHAPE: torch.Size([1664])\n",
      "OUTPUT SHAPE: torch.Size([1408, 10004])\n",
      "TARGET SHAPE: torch.Size([1408])\n",
      "OUTPUT SHAPE: torch.Size([1472, 10004])\n",
      "TARGET SHAPE: torch.Size([1472])\n",
      "OUTPUT SHAPE: torch.Size([1024, 10004])\n",
      "TARGET SHAPE: torch.Size([1024])\n",
      "OUTPUT SHAPE: torch.Size([896, 10004])\n",
      "TARGET SHAPE: torch.Size([896])\n",
      "OUTPUT SHAPE: torch.Size([1216, 10004])\n",
      "TARGET SHAPE: torch.Size([1216])\n",
      "OUTPUT SHAPE: torch.Size([960, 10004])\n",
      "TARGET SHAPE: torch.Size([960])\n",
      "OUTPUT SHAPE: torch.Size([1984, 10004])\n",
      "TARGET SHAPE: torch.Size([1984])\n",
      "OUTPUT SHAPE: torch.Size([1152, 10004])\n",
      "TARGET SHAPE: torch.Size([1152])\n",
      "OUTPUT SHAPE: torch.Size([1344, 10004])\n",
      "TARGET SHAPE: torch.Size([1344])\n",
      "OUTPUT SHAPE: torch.Size([960, 10004])\n",
      "TARGET SHAPE: torch.Size([960])\n",
      "OUTPUT SHAPE: torch.Size([1472, 10004])\n",
      "TARGET SHAPE: torch.Size([1472])\n",
      "OUTPUT SHAPE: torch.Size([832, 10004])\n",
      "TARGET SHAPE: torch.Size([832])\n",
      "OUTPUT SHAPE: torch.Size([1408, 10004])\n",
      "TARGET SHAPE: torch.Size([1408])\n",
      "OUTPUT SHAPE: torch.Size([1344, 10004])\n",
      "TARGET SHAPE: torch.Size([1344])\n",
      "OUTPUT SHAPE: torch.Size([1344, 10004])\n",
      "TARGET SHAPE: torch.Size([1344])\n",
      "OUTPUT SHAPE: torch.Size([1344, 10004])\n",
      "TARGET SHAPE: torch.Size([1344])\n",
      "OUTPUT SHAPE: torch.Size([1280, 10004])\n",
      "TARGET SHAPE: torch.Size([1280])\n",
      "OUTPUT SHAPE: torch.Size([768, 10004])\n",
      "TARGET SHAPE: torch.Size([768])\n",
      "OUTPUT SHAPE: torch.Size([960, 10004])\n",
      "TARGET SHAPE: torch.Size([960])\n",
      "OUTPUT SHAPE: torch.Size([1344, 10004])\n",
      "TARGET SHAPE: torch.Size([1344])\n",
      "OUTPUT SHAPE: torch.Size([1536, 10004])\n",
      "TARGET SHAPE: torch.Size([1536])\n",
      "OUTPUT SHAPE: torch.Size([832, 10004])\n",
      "TARGET SHAPE: torch.Size([832])\n"
     ]
    },
    {
     "ename": "KeyboardInterrupt",
     "evalue": "",
     "output_type": "error",
     "traceback": [
      "\u001b[0;31m---------------------------------------------------------------------------\u001b[0m",
      "\u001b[0;31mKeyboardInterrupt\u001b[0m                         Traceback (most recent call last)",
      "\u001b[1;32m/home/prhyme/code/DL-Prac/Torch-Prac/Seq2Seq/model.ipynb Cell 16\u001b[0m in \u001b[0;36m<cell line: 1>\u001b[0;34m()\u001b[0m\n\u001b[1;32m     <a href='vscode-notebook-cell:/home/prhyme/code/DL-Prac/Torch-Prac/Seq2Seq/model.ipynb#X21sZmlsZQ%3D%3D?line=30'>31</a>\u001b[0m loss \u001b[39m=\u001b[39m criterion(output, target)\n\u001b[1;32m     <a href='vscode-notebook-cell:/home/prhyme/code/DL-Prac/Torch-Prac/Seq2Seq/model.ipynb#X21sZmlsZQ%3D%3D?line=32'>33</a>\u001b[0m \u001b[39m# Back prop\u001b[39;00m\n\u001b[0;32m---> <a href='vscode-notebook-cell:/home/prhyme/code/DL-Prac/Torch-Prac/Seq2Seq/model.ipynb#X21sZmlsZQ%3D%3D?line=33'>34</a>\u001b[0m loss\u001b[39m.\u001b[39;49mbackward()\n\u001b[1;32m     <a href='vscode-notebook-cell:/home/prhyme/code/DL-Prac/Torch-Prac/Seq2Seq/model.ipynb#X21sZmlsZQ%3D%3D?line=35'>36</a>\u001b[0m \u001b[39m# Clip to avoid exploding gradient issues, makes sure grads are\u001b[39;00m\n\u001b[1;32m     <a href='vscode-notebook-cell:/home/prhyme/code/DL-Prac/Torch-Prac/Seq2Seq/model.ipynb#X21sZmlsZQ%3D%3D?line=36'>37</a>\u001b[0m \u001b[39m# within a healthy range\u001b[39;00m\n\u001b[1;32m     <a href='vscode-notebook-cell:/home/prhyme/code/DL-Prac/Torch-Prac/Seq2Seq/model.ipynb#X21sZmlsZQ%3D%3D?line=37'>38</a>\u001b[0m torch\u001b[39m.\u001b[39mnn\u001b[39m.\u001b[39mutils\u001b[39m.\u001b[39mclip_grad_norm_(model\u001b[39m.\u001b[39mparameters(), max_norm\u001b[39m=\u001b[39m\u001b[39m1\u001b[39m)\n",
      "File \u001b[0;32m~/.local/lib/python3.10/site-packages/torch/_tensor.py:396\u001b[0m, in \u001b[0;36mTensor.backward\u001b[0;34m(self, gradient, retain_graph, create_graph, inputs)\u001b[0m\n\u001b[1;32m    387\u001b[0m \u001b[39mif\u001b[39;00m has_torch_function_unary(\u001b[39mself\u001b[39m):\n\u001b[1;32m    388\u001b[0m     \u001b[39mreturn\u001b[39;00m handle_torch_function(\n\u001b[1;32m    389\u001b[0m         Tensor\u001b[39m.\u001b[39mbackward,\n\u001b[1;32m    390\u001b[0m         (\u001b[39mself\u001b[39m,),\n\u001b[0;32m   (...)\u001b[0m\n\u001b[1;32m    394\u001b[0m         create_graph\u001b[39m=\u001b[39mcreate_graph,\n\u001b[1;32m    395\u001b[0m         inputs\u001b[39m=\u001b[39minputs)\n\u001b[0;32m--> 396\u001b[0m torch\u001b[39m.\u001b[39;49mautograd\u001b[39m.\u001b[39;49mbackward(\u001b[39mself\u001b[39;49m, gradient, retain_graph, create_graph, inputs\u001b[39m=\u001b[39;49minputs)\n",
      "File \u001b[0;32m~/.local/lib/python3.10/site-packages/torch/autograd/__init__.py:173\u001b[0m, in \u001b[0;36mbackward\u001b[0;34m(tensors, grad_tensors, retain_graph, create_graph, grad_variables, inputs)\u001b[0m\n\u001b[1;32m    168\u001b[0m     retain_graph \u001b[39m=\u001b[39m create_graph\n\u001b[1;32m    170\u001b[0m \u001b[39m# The reason we repeat same the comment below is that\u001b[39;00m\n\u001b[1;32m    171\u001b[0m \u001b[39m# some Python versions print out the first line of a multi-line function\u001b[39;00m\n\u001b[1;32m    172\u001b[0m \u001b[39m# calls in the traceback and some print out the last line\u001b[39;00m\n\u001b[0;32m--> 173\u001b[0m Variable\u001b[39m.\u001b[39;49m_execution_engine\u001b[39m.\u001b[39;49mrun_backward(  \u001b[39m# Calls into the C++ engine to run the backward pass\u001b[39;49;00m\n\u001b[1;32m    174\u001b[0m     tensors, grad_tensors_, retain_graph, create_graph, inputs,\n\u001b[1;32m    175\u001b[0m     allow_unreachable\u001b[39m=\u001b[39;49m\u001b[39mTrue\u001b[39;49;00m, accumulate_grad\u001b[39m=\u001b[39;49m\u001b[39mTrue\u001b[39;49;00m)\n",
      "\u001b[0;31mKeyboardInterrupt\u001b[0m: "
     ]
    }
   ],
   "source": [
    "for epoch in range(num_epochs):\n",
    "    print(f\"[Epoch {epoch} / {num_epochs}]\")\n",
    "\n",
    "    checkpoint = {\"state_dict\": model.state_dict(), \"optimizer\": optimizer.state_dict()}\n",
    "    save_checkpoint(checkpoint)\n",
    "\n",
    "\n",
    "\n",
    "    model.train()\n",
    "\n",
    "    for batch_idx, batch in enumerate(train_iterator):\n",
    "        # Get input and targets and get to cuda\n",
    "        inp_data = batch.src\n",
    "        target = batch.trg\n",
    "\n",
    "        # Forward prop\n",
    "        output = model(inp_data, target)\n",
    "\n",
    "        # Output is of shape (trg_len, batch_size, output_dim) but Cross Entropy Loss\n",
    "        # doesn't take input in that form. For example if we have MNIST we want to have\n",
    "        # output to be: (N, 10) and targets just (N). Here we can view it in a similar\n",
    "        # way that we have output_words * batch_size that we want to send in into\n",
    "        # our cost function, so we need to do some reshapin. While we're at it\n",
    "        # Let's also remove the start token while we're at it\n",
    "        output = output[1:].reshape(-1, output.shape[2])\n",
    "        target = target[1:].reshape(-1)\n",
    "\n",
    "        print(f'OUTPUT SHAPE: {output.shape}')\n",
    "        print(f'TARGET SHAPE: {target.shape}')\n",
    "        optimizer.zero_grad()\n",
    "        loss = criterion(output, target)\n",
    "\n",
    "        # Back prop\n",
    "        loss.backward()\n",
    "\n",
    "        # Clip to avoid exploding gradient issues, makes sure grads are\n",
    "        # within a healthy range\n",
    "        torch.nn.utils.clip_grad_norm_(model.parameters(), max_norm=1)\n",
    "\n",
    "        # Gradient descent step\n",
    "        optimizer.step()\n",
    "\n",
    "        # Plot to tensorboard\n",
    "        writer.add_scalar(\"Training loss\", loss, global_step=step)\n",
    "        step += 1"
   ]
  },
  {
   "cell_type": "code",
   "execution_count": null,
   "metadata": {},
   "outputs": [],
   "source": []
  }
 ],
 "metadata": {
  "interpreter": {
   "hash": "916dbcbb3f70747c44a77c7bcd40155683ae19c65e1c03b4aa3499c5328201f1"
  },
  "kernelspec": {
   "display_name": "Python 3.8.10 64-bit",
   "name": "python3"
  },
  "language_info": {
   "codemirror_mode": {
    "name": "ipython",
    "version": 3
   },
   "file_extension": ".py",
   "mimetype": "text/x-python",
   "name": "python",
   "nbconvert_exporter": "python",
   "pygments_lexer": "ipython3",
   "version": "3.10.6"
  },
  "orig_nbformat": 4
 },
 "nbformat": 4,
 "nbformat_minor": 2
}
